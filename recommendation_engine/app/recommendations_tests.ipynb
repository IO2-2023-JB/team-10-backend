{
 "cells": [
  {
   "cell_type": "code",
   "execution_count": 1,
   "metadata": {},
   "outputs": [],
   "source": [
    "import numpy as np\n",
    "import pandas as pd\n",
    "import pymongo\n",
    "from bson.objectid import ObjectId\n",
    "from math import isnan\n",
    "DATABASE_URL = \"mongodb://localhost:27017\"\n",
    "DATABASE_NAME = \"mojeWideloDb\"\n",
    "USER_COLLECTION_NAME = \"users\"\n",
    "VIDEO_COLLECTION_NAME = \"videoMetadata\"\n",
    "REACTION_COLLECTION_NAME = \"reactions\"\n",
    "SUBSCRIPTION_COLLECTION_NAME = \"subscriptions\"\n",
    "HISTORY_COLLECTION_NAME = \"history\"\n"
   ]
  },
  {
   "cell_type": "code",
   "execution_count": null,
   "metadata": {},
   "outputs": [],
   "source": [
    "reaction_collection"
   ]
  },
  {
   "cell_type": "code",
   "execution_count": 2,
   "metadata": {},
   "outputs": [],
   "source": [
    "db_client = pymongo.MongoClient(DATABASE_URL)\n",
    "db = db_client[DATABASE_NAME]\n",
    "video_collection = pd.DataFrame(list(db[VIDEO_COLLECTION_NAME].find()))\n",
    "user_collection = pd.DataFrame(list(db[USER_COLLECTION_NAME].find()))\n",
    "reaction_collection = pd.DataFrame(list(db[REACTION_COLLECTION_NAME].find()))\n",
    "subscription_collection = pd.DataFrame(list(db[SUBSCRIPTION_COLLECTION_NAME].find()))\n",
    "history_collection = pd.DataFrame(list(db[HISTORY_COLLECTION_NAME].find()))"
   ]
  },
  {
   "cell_type": "code",
   "execution_count": 4,
   "metadata": {},
   "outputs": [
    {
     "ename": "KeyError",
     "evalue": "\"['Tags_x'] not in index\"",
     "output_type": "error",
     "traceback": [
      "\u001b[1;31m---------------------------------------------------------------------------\u001b[0m",
      "\u001b[1;31mKeyError\u001b[0m                                  Traceback (most recent call last)",
      "Cell \u001b[1;32mIn[4], line 11\u001b[0m\n\u001b[0;32m      9\u001b[0m user_reactions \u001b[39m=\u001b[39m reaction_collection[reaction_collection[\u001b[39m\"\u001b[39m\u001b[39mUserId\u001b[39m\u001b[39m\"\u001b[39m] \u001b[39m==\u001b[39m user_id]\n\u001b[0;32m     10\u001b[0m watched_video \u001b[39m=\u001b[39m pd\u001b[39m.\u001b[39mDataFrame(history_collection[\u001b[39m\"\u001b[39m\u001b[39mWatchedVideos\u001b[39m\u001b[39m\"\u001b[39m][user_history_index]\u001b[39m.\u001b[39mcopy())\n\u001b[1;32m---> 11\u001b[0m user_watched_videos \u001b[39m=\u001b[39m watched_video\u001b[39m.\u001b[39;49mmerge(video_collection, left_on\u001b[39m=\u001b[39;49m\u001b[39m\"\u001b[39;49m\u001b[39mVideoId\u001b[39;49m\u001b[39m\"\u001b[39;49m, right_on\u001b[39m=\u001b[39;49m\u001b[39m\"\u001b[39;49m\u001b[39m_id\u001b[39;49m\u001b[39m\"\u001b[39;49m)\u001b[39m.\u001b[39;49mmerge(user_reactions, left_on\u001b[39m=\u001b[39;49m\u001b[39m\"\u001b[39;49m\u001b[39mVideoId\u001b[39;49m\u001b[39m\"\u001b[39;49m, right_on\u001b[39m=\u001b[39;49m\u001b[39m\"\u001b[39;49m\u001b[39mVideoId\u001b[39;49m\u001b[39m\"\u001b[39;49m, how\u001b[39m=\u001b[39;49m\u001b[39m\"\u001b[39;49m\u001b[39mleft\u001b[39;49m\u001b[39m\"\u001b[39;49m)\u001b[39m.\u001b[39;49mmerge(user_subscriptions, left_on\u001b[39m=\u001b[39;49m\u001b[39m\"\u001b[39;49m\u001b[39mAuthorId\u001b[39;49m\u001b[39m\"\u001b[39;49m, right_on\u001b[39m=\u001b[39;49m\u001b[39m\"\u001b[39;49m\u001b[39mCreatorId\u001b[39;49m\u001b[39m\"\u001b[39;49m, how\u001b[39m=\u001b[39;49m\u001b[39m\"\u001b[39;49m\u001b[39mleft\u001b[39;49m\u001b[39m\"\u001b[39;49m)\u001b[39m.\u001b[39;49mloc[:,[\u001b[39m\"\u001b[39;49m\u001b[39mVideoId\u001b[39;49m\u001b[39m\"\u001b[39;49m, \u001b[39m\"\u001b[39;49m\u001b[39mDate\u001b[39;49m\u001b[39m\"\u001b[39;49m, \u001b[39m\"\u001b[39;49m\u001b[39mTags_x\u001b[39;49m\u001b[39m\"\u001b[39;49m, \u001b[39m\"\u001b[39;49m\u001b[39mReactionType\u001b[39;49m\u001b[39m\"\u001b[39;49m,\u001b[39m\"\u001b[39;49m\u001b[39mSubscriberId\u001b[39;49m\u001b[39m\"\u001b[39;49m]]\n\u001b[0;32m     12\u001b[0m user_watched_videos[\u001b[39m\"\u001b[39m\u001b[39mSubscribes\u001b[39m\u001b[39m\"\u001b[39m] \u001b[39m=\u001b[39m user_watched_videos\u001b[39m.\u001b[39mloc[:,\u001b[39m\"\u001b[39m\u001b[39mSubscriberId\u001b[39m\u001b[39m\"\u001b[39m]\u001b[39m.\u001b[39mtransform(\u001b[39mlambda\u001b[39;00m x: \u001b[39mnot\u001b[39;00m pd\u001b[39m.\u001b[39misnull(x))\n\u001b[0;32m     13\u001b[0m user_watched_videos \u001b[39m=\u001b[39m user_watched_videos\u001b[39m.\u001b[39mdrop(columns\u001b[39m=\u001b[39m[\u001b[39m\"\u001b[39m\u001b[39mSubscriberId\u001b[39m\u001b[39m\"\u001b[39m])\n",
      "File \u001b[1;32mc:\\Users\\mateu\\AppData\\Local\\pypoetry\\Cache\\virtualenvs\\recommendation-engine-lqmc3zsG-py3.11\\Lib\\site-packages\\pandas\\core\\indexing.py:1097\u001b[0m, in \u001b[0;36m_LocationIndexer.__getitem__\u001b[1;34m(self, key)\u001b[0m\n\u001b[0;32m   1095\u001b[0m     \u001b[39mif\u001b[39;00m \u001b[39mself\u001b[39m\u001b[39m.\u001b[39m_is_scalar_access(key):\n\u001b[0;32m   1096\u001b[0m         \u001b[39mreturn\u001b[39;00m \u001b[39mself\u001b[39m\u001b[39m.\u001b[39mobj\u001b[39m.\u001b[39m_get_value(\u001b[39m*\u001b[39mkey, takeable\u001b[39m=\u001b[39m\u001b[39mself\u001b[39m\u001b[39m.\u001b[39m_takeable)\n\u001b[1;32m-> 1097\u001b[0m     \u001b[39mreturn\u001b[39;00m \u001b[39mself\u001b[39;49m\u001b[39m.\u001b[39;49m_getitem_tuple(key)\n\u001b[0;32m   1098\u001b[0m \u001b[39melse\u001b[39;00m:\n\u001b[0;32m   1099\u001b[0m     \u001b[39m# we by definition only have the 0th axis\u001b[39;00m\n\u001b[0;32m   1100\u001b[0m     axis \u001b[39m=\u001b[39m \u001b[39mself\u001b[39m\u001b[39m.\u001b[39maxis \u001b[39mor\u001b[39;00m \u001b[39m0\u001b[39m\n",
      "File \u001b[1;32mc:\\Users\\mateu\\AppData\\Local\\pypoetry\\Cache\\virtualenvs\\recommendation-engine-lqmc3zsG-py3.11\\Lib\\site-packages\\pandas\\core\\indexing.py:1289\u001b[0m, in \u001b[0;36m_LocIndexer._getitem_tuple\u001b[1;34m(self, tup)\u001b[0m\n\u001b[0;32m   1286\u001b[0m \u001b[39mif\u001b[39;00m \u001b[39mself\u001b[39m\u001b[39m.\u001b[39m_multi_take_opportunity(tup):\n\u001b[0;32m   1287\u001b[0m     \u001b[39mreturn\u001b[39;00m \u001b[39mself\u001b[39m\u001b[39m.\u001b[39m_multi_take(tup)\n\u001b[1;32m-> 1289\u001b[0m \u001b[39mreturn\u001b[39;00m \u001b[39mself\u001b[39;49m\u001b[39m.\u001b[39;49m_getitem_tuple_same_dim(tup)\n",
      "File \u001b[1;32mc:\\Users\\mateu\\AppData\\Local\\pypoetry\\Cache\\virtualenvs\\recommendation-engine-lqmc3zsG-py3.11\\Lib\\site-packages\\pandas\\core\\indexing.py:955\u001b[0m, in \u001b[0;36m_LocationIndexer._getitem_tuple_same_dim\u001b[1;34m(self, tup)\u001b[0m\n\u001b[0;32m    952\u001b[0m \u001b[39mif\u001b[39;00m com\u001b[39m.\u001b[39mis_null_slice(key):\n\u001b[0;32m    953\u001b[0m     \u001b[39mcontinue\u001b[39;00m\n\u001b[1;32m--> 955\u001b[0m retval \u001b[39m=\u001b[39m \u001b[39mgetattr\u001b[39;49m(retval, \u001b[39mself\u001b[39;49m\u001b[39m.\u001b[39;49mname)\u001b[39m.\u001b[39;49m_getitem_axis(key, axis\u001b[39m=\u001b[39;49mi)\n\u001b[0;32m    956\u001b[0m \u001b[39m# We should never have retval.ndim < self.ndim, as that should\u001b[39;00m\n\u001b[0;32m    957\u001b[0m \u001b[39m#  be handled by the _getitem_lowerdim call above.\u001b[39;00m\n\u001b[0;32m    958\u001b[0m \u001b[39massert\u001b[39;00m retval\u001b[39m.\u001b[39mndim \u001b[39m==\u001b[39m \u001b[39mself\u001b[39m\u001b[39m.\u001b[39mndim\n",
      "File \u001b[1;32mc:\\Users\\mateu\\AppData\\Local\\pypoetry\\Cache\\virtualenvs\\recommendation-engine-lqmc3zsG-py3.11\\Lib\\site-packages\\pandas\\core\\indexing.py:1332\u001b[0m, in \u001b[0;36m_LocIndexer._getitem_axis\u001b[1;34m(self, key, axis)\u001b[0m\n\u001b[0;32m   1329\u001b[0m     \u001b[39mif\u001b[39;00m \u001b[39mhasattr\u001b[39m(key, \u001b[39m\"\u001b[39m\u001b[39mndim\u001b[39m\u001b[39m\"\u001b[39m) \u001b[39mand\u001b[39;00m key\u001b[39m.\u001b[39mndim \u001b[39m>\u001b[39m \u001b[39m1\u001b[39m:\n\u001b[0;32m   1330\u001b[0m         \u001b[39mraise\u001b[39;00m \u001b[39mValueError\u001b[39;00m(\u001b[39m\"\u001b[39m\u001b[39mCannot index with multidimensional key\u001b[39m\u001b[39m\"\u001b[39m)\n\u001b[1;32m-> 1332\u001b[0m     \u001b[39mreturn\u001b[39;00m \u001b[39mself\u001b[39;49m\u001b[39m.\u001b[39;49m_getitem_iterable(key, axis\u001b[39m=\u001b[39;49maxis)\n\u001b[0;32m   1334\u001b[0m \u001b[39m# nested tuple slicing\u001b[39;00m\n\u001b[0;32m   1335\u001b[0m \u001b[39mif\u001b[39;00m is_nested_tuple(key, labels):\n",
      "File \u001b[1;32mc:\\Users\\mateu\\AppData\\Local\\pypoetry\\Cache\\virtualenvs\\recommendation-engine-lqmc3zsG-py3.11\\Lib\\site-packages\\pandas\\core\\indexing.py:1272\u001b[0m, in \u001b[0;36m_LocIndexer._getitem_iterable\u001b[1;34m(self, key, axis)\u001b[0m\n\u001b[0;32m   1269\u001b[0m \u001b[39mself\u001b[39m\u001b[39m.\u001b[39m_validate_key(key, axis)\n\u001b[0;32m   1271\u001b[0m \u001b[39m# A collection of keys\u001b[39;00m\n\u001b[1;32m-> 1272\u001b[0m keyarr, indexer \u001b[39m=\u001b[39m \u001b[39mself\u001b[39;49m\u001b[39m.\u001b[39;49m_get_listlike_indexer(key, axis)\n\u001b[0;32m   1273\u001b[0m \u001b[39mreturn\u001b[39;00m \u001b[39mself\u001b[39m\u001b[39m.\u001b[39mobj\u001b[39m.\u001b[39m_reindex_with_indexers(\n\u001b[0;32m   1274\u001b[0m     {axis: [keyarr, indexer]}, copy\u001b[39m=\u001b[39m\u001b[39mTrue\u001b[39;00m, allow_dups\u001b[39m=\u001b[39m\u001b[39mTrue\u001b[39;00m\n\u001b[0;32m   1275\u001b[0m )\n",
      "File \u001b[1;32mc:\\Users\\mateu\\AppData\\Local\\pypoetry\\Cache\\virtualenvs\\recommendation-engine-lqmc3zsG-py3.11\\Lib\\site-packages\\pandas\\core\\indexing.py:1462\u001b[0m, in \u001b[0;36m_LocIndexer._get_listlike_indexer\u001b[1;34m(self, key, axis)\u001b[0m\n\u001b[0;32m   1459\u001b[0m ax \u001b[39m=\u001b[39m \u001b[39mself\u001b[39m\u001b[39m.\u001b[39mobj\u001b[39m.\u001b[39m_get_axis(axis)\n\u001b[0;32m   1460\u001b[0m axis_name \u001b[39m=\u001b[39m \u001b[39mself\u001b[39m\u001b[39m.\u001b[39mobj\u001b[39m.\u001b[39m_get_axis_name(axis)\n\u001b[1;32m-> 1462\u001b[0m keyarr, indexer \u001b[39m=\u001b[39m ax\u001b[39m.\u001b[39;49m_get_indexer_strict(key, axis_name)\n\u001b[0;32m   1464\u001b[0m \u001b[39mreturn\u001b[39;00m keyarr, indexer\n",
      "File \u001b[1;32mc:\\Users\\mateu\\AppData\\Local\\pypoetry\\Cache\\virtualenvs\\recommendation-engine-lqmc3zsG-py3.11\\Lib\\site-packages\\pandas\\core\\indexes\\base.py:5876\u001b[0m, in \u001b[0;36mIndex._get_indexer_strict\u001b[1;34m(self, key, axis_name)\u001b[0m\n\u001b[0;32m   5873\u001b[0m \u001b[39melse\u001b[39;00m:\n\u001b[0;32m   5874\u001b[0m     keyarr, indexer, new_indexer \u001b[39m=\u001b[39m \u001b[39mself\u001b[39m\u001b[39m.\u001b[39m_reindex_non_unique(keyarr)\n\u001b[1;32m-> 5876\u001b[0m \u001b[39mself\u001b[39;49m\u001b[39m.\u001b[39;49m_raise_if_missing(keyarr, indexer, axis_name)\n\u001b[0;32m   5878\u001b[0m keyarr \u001b[39m=\u001b[39m \u001b[39mself\u001b[39m\u001b[39m.\u001b[39mtake(indexer)\n\u001b[0;32m   5879\u001b[0m \u001b[39mif\u001b[39;00m \u001b[39misinstance\u001b[39m(key, Index):\n\u001b[0;32m   5880\u001b[0m     \u001b[39m# GH 42790 - Preserve name from an Index\u001b[39;00m\n",
      "File \u001b[1;32mc:\\Users\\mateu\\AppData\\Local\\pypoetry\\Cache\\virtualenvs\\recommendation-engine-lqmc3zsG-py3.11\\Lib\\site-packages\\pandas\\core\\indexes\\base.py:5938\u001b[0m, in \u001b[0;36mIndex._raise_if_missing\u001b[1;34m(self, key, indexer, axis_name)\u001b[0m\n\u001b[0;32m   5935\u001b[0m     \u001b[39mraise\u001b[39;00m \u001b[39mKeyError\u001b[39;00m(\u001b[39mf\u001b[39m\u001b[39m\"\u001b[39m\u001b[39mNone of [\u001b[39m\u001b[39m{\u001b[39;00mkey\u001b[39m}\u001b[39;00m\u001b[39m] are in the [\u001b[39m\u001b[39m{\u001b[39;00maxis_name\u001b[39m}\u001b[39;00m\u001b[39m]\u001b[39m\u001b[39m\"\u001b[39m)\n\u001b[0;32m   5937\u001b[0m not_found \u001b[39m=\u001b[39m \u001b[39mlist\u001b[39m(ensure_index(key)[missing_mask\u001b[39m.\u001b[39mnonzero()[\u001b[39m0\u001b[39m]]\u001b[39m.\u001b[39munique())\n\u001b[1;32m-> 5938\u001b[0m \u001b[39mraise\u001b[39;00m \u001b[39mKeyError\u001b[39;00m(\u001b[39mf\u001b[39m\u001b[39m\"\u001b[39m\u001b[39m{\u001b[39;00mnot_found\u001b[39m}\u001b[39;00m\u001b[39m not in index\u001b[39m\u001b[39m\"\u001b[39m)\n",
      "\u001b[1;31mKeyError\u001b[0m: \"['Tags_x'] not in index\""
     ]
    }
   ],
   "source": [
    "# merge users with histories\n",
    "users_history = history_collection.merge(user_collection, on=\"_id\")\n",
    "\n",
    "# process one user history\n",
    "user_id = ObjectId(\"64762699d313339852219002\")\n",
    "user_history_index = history_collection[\"WatchedVideos\"][history_collection[\"_id\"] == user_id].index[0]\n",
    "# todo: do not use subscriptions? we already implemented subs page... (maybe hide subscribed channels?)\n",
    "user_subscriptions = subscription_collection[subscription_collection[\"SubscriberId\"] == user_id]\n",
    "user_reactions = reaction_collection[reaction_collection[\"UserId\"] == user_id]\n",
    "watched_video = pd.DataFrame(history_collection[\"WatchedVideos\"][user_history_index].copy())\n",
    "user_watched_videos = watched_video.merge(video_collection, left_on=\"VideoId\", right_on=\"_id\").merge(user_reactions, left_on=\"VideoId\", right_on=\"VideoId\", how=\"left\").merge(user_subscriptions, left_on=\"AuthorId\", right_on=\"CreatorId\", how=\"left\").loc[:,[\"VideoId\", \"Date\", \"Tags_x\", \"ReactionType\",\"SubscriberId\"]]\n",
    "user_watched_videos[\"Subscribes\"] = user_watched_videos.loc[:,\"SubscriberId\"].transform(lambda x: not pd.isnull(x))\n",
    "user_watched_videos = user_watched_videos.drop(columns=[\"SubscriberId\"])\n",
    "user_watched_videos"
   ]
  },
  {
   "cell_type": "code",
   "execution_count": null,
   "metadata": {},
   "outputs": [],
   "source": []
  },
  {
   "cell_type": "code",
   "execution_count": 22,
   "metadata": {},
   "outputs": [
    {
     "name": "stdout",
     "output_type": "stream",
     "text": [
      "5\n",
      "5\n",
      "5\n"
     ]
    },
    {
     "data": {
      "text/plain": [
       "array([[0. , 0.2, 0.2],\n",
       "       [0.2, 0. , 0. ],\n",
       "       [0.2, 0. , 0. ]])"
      ]
     },
     "execution_count": 22,
     "metadata": {},
     "output_type": "execute_result"
    }
   ],
   "source": [
    "video_count = len(video_collection[\"AuthorId\"])\n",
    "movie_matrix = np.zeros((video_count, video_count), float)\n",
    "for i in range(video_count):\n",
    "    for j in range(video_count):\n",
    "        tags1, tags2 = video_collection[\"Tags\"][i], video_collection[\"Tags\"][j]\n",
    "        min_length = (min(len(tags1), len(tags2)))\n",
    "        if(i == j or min_length == 0):\n",
    "            print(min_length)\n",
    "            continue\n",
    "        movie_matrix[i,j] = len(np.intersect1d(tags1, tags2)) / min_length\n",
    "movie_matrix"
   ]
  },
  {
   "cell_type": "code",
   "execution_count": 24,
   "metadata": {},
   "outputs": [
    {
     "ename": "ModuleNotFoundError",
     "evalue": "No module named 'app'",
     "output_type": "error",
     "traceback": [
      "\u001b[1;31m---------------------------------------------------------------------------\u001b[0m",
      "\u001b[1;31mModuleNotFoundError\u001b[0m                       Traceback (most recent call last)",
      "Cell \u001b[1;32mIn[24], line 1\u001b[0m\n\u001b[1;32m----> 1\u001b[0m \u001b[39mfrom\u001b[39;00m \u001b[39mapp\u001b[39;00m\u001b[39m.\u001b[39;00m\u001b[39mconst\u001b[39;00m \u001b[39mimport\u001b[39;00m HISTORY_DEPTH, DEPTH_PENALTY\n\u001b[0;32m      4\u001b[0m user_history \u001b[39m=\u001b[39m watched_video\u001b[39m.\u001b[39mdrop_duplicates(subset\u001b[39m=\u001b[39m\u001b[39m'\u001b[39m\u001b[39mVideoId\u001b[39m\u001b[39m'\u001b[39m, keep\u001b[39m=\u001b[39m\u001b[39m\"\u001b[39m\u001b[39mlast\u001b[39m\u001b[39m\"\u001b[39m)\u001b[39m.\u001b[39mreset_index()\n\u001b[0;32m      5\u001b[0m recommended \u001b[39m=\u001b[39m pd\u001b[39m.\u001b[39mDataFrame(columns\u001b[39m=\u001b[39m[\u001b[39m\"\u001b[39m\u001b[39mVideoId\u001b[39m\u001b[39m\"\u001b[39m, \u001b[39m\"\u001b[39m\u001b[39mscore\u001b[39m\u001b[39m\"\u001b[39m])\n",
      "\u001b[1;31mModuleNotFoundError\u001b[0m: No module named 'app'"
     ]
    }
   ],
   "source": [
    "from app.const import HISTORY_DEPTH, DEPTH_PENALTY\n",
    "\n",
    "\n",
    "user_history = watched_video.drop_duplicates(subset='VideoId', keep=\"last\").reset_index()\n",
    "recommended = pd.DataFrame(columns=[\"VideoId\", \"score\"])\n",
    "history_length = len(user_history)\n",
    "for i in min(range(history_length), HISTORY_DEPTH):\n",
    "    video_index = video_collection[video_collection[\"_id\"] == user_history[\"VideoId\"][i]].index\n",
    "    for j in range(len(movie_matrix)):\n",
    "        if(movie_matrix[video_index, j] > 0):\n",
    "            recommended.loc[len(recommended)] = {\"VideoId\": user_history[\"VideoId\"][i], \"score\": movie_matrix[video_index, j] / (i * DEPTH_PENALTY)}\n",
    "\n",
    "recommended.drop_duplicates(subset=\"VideoId\", keep=\"first\").sort_values(by=\"score\", ascending=False)\n"
   ]
  },
  {
   "cell_type": "code",
   "execution_count": 8,
   "metadata": {},
   "outputs": [
    {
     "data": {
      "text/plain": [
       "[{'VideoId': ObjectId('647627b6d313339852219003'),\n",
       "  'Date': datetime.datetime(2023, 5, 30, 17, 40, 51, 718000)},\n",
       " {'VideoId': ObjectId('647627b6d313339852219003'),\n",
       "  'Date': datetime.datetime(2023, 5, 30, 17, 40, 51, 788000)},\n",
       " {'VideoId': ObjectId('647627b6d313339852219003'),\n",
       "  'Date': datetime.datetime(2023, 5, 30, 17, 40, 51, 809000)},\n",
       " {'VideoId': ObjectId('647627b6d313339852219003'),\n",
       "  'Date': datetime.datetime(2023, 5, 30, 17, 41, 1, 821000)},\n",
       " {'VideoId': ObjectId('647627b6d313339852219003'),\n",
       "  'Date': datetime.datetime(2023, 5, 30, 17, 41, 1, 841000)},\n",
       " {'VideoId': ObjectId('647627b6d313339852219003'),\n",
       "  'Date': datetime.datetime(2023, 5, 30, 17, 41, 1, 863000)},\n",
       " {'VideoId': ObjectId('64762809d313339852219004'),\n",
       "  'Date': datetime.datetime(2023, 5, 30, 17, 41, 3, 483000)},\n",
       " {'VideoId': ObjectId('647627b6d313339852219003'),\n",
       "  'Date': datetime.datetime(2023, 5, 30, 17, 41, 36, 305000)},\n",
       " {'VideoId': ObjectId('647627b6d313339852219003'),\n",
       "  'Date': datetime.datetime(2023, 5, 30, 17, 41, 36, 368000)},\n",
       " {'VideoId': ObjectId('647627b6d313339852219003'),\n",
       "  'Date': datetime.datetime(2023, 5, 30, 17, 41, 36, 400000)}]"
      ]
     },
     "execution_count": 8,
     "metadata": {},
     "output_type": "execute_result"
    }
   ],
   "source": [
    "history_collection[\"WatchedVideos\"][1]"
   ]
  }
 ],
 "metadata": {
  "kernelspec": {
   "display_name": "recommendation-engine-lqmc3zsG-py3.11",
   "language": "python",
   "name": "python3"
  },
  "language_info": {
   "codemirror_mode": {
    "name": "ipython",
    "version": 3
   },
   "file_extension": ".py",
   "mimetype": "text/x-python",
   "name": "python",
   "nbconvert_exporter": "python",
   "pygments_lexer": "ipython3",
   "version": "3.11.3"
  },
  "orig_nbformat": 4
 },
 "nbformat": 4,
 "nbformat_minor": 2
}
